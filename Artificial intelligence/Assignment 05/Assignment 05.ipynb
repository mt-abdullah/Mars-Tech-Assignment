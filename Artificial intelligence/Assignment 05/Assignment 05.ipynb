{
 "cells": [
  {
   "cell_type": "code",
   "execution_count": 1,
   "id": "35d1855f-d998-496e-9171-7759aad31ad0",
   "metadata": {},
   "outputs": [
    {
     "name": "stdout",
     "output_type": "stream",
     "text": [
      "Sub-fields in AI are:\n",
      "  Machine Learning\n",
      "  Neural Networks\n",
      "  Vision\n",
      "  Robotics\n",
      "  Speech Processing\n",
      "  Natural Language Processing\n"
     ]
    }
   ],
   "source": [
    "class SubfieldsInAI:\n",
    "    def Subfields(self):\n",
    "        subfields = [\n",
    "            \"Machine Learning\",\n",
    "            \"Neural Networks\",\n",
    "            \"Vision\",\n",
    "            \"Robotics\",\n",
    "            \"Speech Processing\",\n",
    "            \"Natural Language Processing\"\n",
    "        ]\n",
    "        print(\"Sub-fields in AI are:\")\n",
    "        for subfield in subfields:\n",
    "            print(\" \", subfield)\n",
    "\n",
    "ai = SubfieldsInAI()\n",
    "ai.Subfields()\n"
   ]
  },
  {
   "cell_type": "code",
   "execution_count": 5,
   "id": "8828249f-586a-4265-bf23-2f166b71e211",
   "metadata": {},
   "outputs": [
    {
     "name": "stdin",
     "output_type": "stream",
     "text": [
      "Enter a number:   52452\n"
     ]
    },
    {
     "name": "stdout",
     "output_type": "stream",
     "text": [
      "52452 is Even number\n"
     ]
    }
   ],
   "source": [
    "class OddEven:\n",
    "    def OddEven(self):\n",
    "        number = int(input(\"Enter a number: \"))\n",
    "        if number % 2 == 0:\n",
    "            print(f\"{number} is Even number\")\n",
    "        else:\n",
    "            print(f\"{number} is Odd number\")\n",
    "\n",
    "\n",
    "\n",
    "check = OddEven()\n",
    "check.OddEven()\n"
   ]
  },
  {
   "cell_type": "code",
   "execution_count": 15,
   "id": "aff95830-22b0-45f7-9ccc-eb503351a414",
   "metadata": {},
   "outputs": [
    {
     "name": "stdin",
     "output_type": "stream",
     "text": [
      "Your Gender (Male/Female):  male\n",
      "Your Age:  20\n"
     ]
    },
    {
     "name": "stdout",
     "output_type": "stream",
     "text": [
      "NOT ELIGIBLE\n"
     ]
    }
   ],
   "source": [
    "class EligibilityForMarriage:\n",
    "    def Eligible(self):\n",
    "        gender = input(\"Your Gender (Male/Female): \").strip().capitalize()\n",
    "        age = int(input(\"Your Age: \"))\n",
    "        \n",
    "        if gender == \"Male\" and age >= 21:\n",
    "            print(\"ELIGIBLE\")\n",
    "        elif gender == \"Female\" and age >= 18:\n",
    "            print(\"ELIGIBLE\")\n",
    "        else:\n",
    "            print(\"NOT ELIGIBLE\")\n",
    "\n",
    "\n",
    "check = EligibilityForMarriage()\n",
    "check.Eligible()\n"
   ]
  },
  {
   "cell_type": "code",
   "execution_count": 23,
   "id": "b283662a-f004-46fc-a311-81f009e35eb6",
   "metadata": {},
   "outputs": [
    {
     "name": "stdout",
     "output_type": "stream",
     "text": [
      "Subject1= 98\n",
      "Subject2= 87\n",
      "Subject3= 95\n",
      "Subject4= 95\n",
      "Subject5= 93\n",
      "Total: 468\n",
      "Percentage: 93.60000000000001\n"
     ]
    }
   ],
   "source": [
    "class FindPercent:\n",
    "    def percentage(self):\n",
    "        Subject1 = 98\n",
    "        Subject2 = 87\n",
    "        Subject3 = 95\n",
    "        Subject4 = 95\n",
    "        Subject5 = 93\n",
    "        \n",
    "       \n",
    "        Total = Subject1 + Subject2 + Subject3 + Subject4 + Subject5\n",
    "        Percentage = (Total / 500) * 100\n",
    "        \n",
    "        \n",
    "        print(f\"Subject1= {Subject1}\")\n",
    "        print(f\"Subject2= {Subject2}\")\n",
    "        print(f\"Subject3= {Subject3}\")\n",
    "        print(f\"Subject4= {Subject4}\")\n",
    "        print(f\"Subject5= {Subject5}\")\n",
    "        print(f\"Total: {Total}\")\n",
    "        print(f\"Percentage: {Percentage}\")\n",
    "\n",
    "\n",
    "\n",
    "calc = FindPercent()\n",
    "calc.percentage()\n"
   ]
  },
  {
   "cell_type": "code",
   "execution_count": 25,
   "id": "47dbd682-f994-4498-bc68-f2b8c1c3e80c",
   "metadata": {},
   "outputs": [
    {
     "name": "stdin",
     "output_type": "stream",
     "text": [
      "Height:  10\n",
      "Breadth:  34\n"
     ]
    },
    {
     "name": "stdout",
     "output_type": "stream",
     "text": [
      "Area formula: (Height * Breadth) / 2\n",
      "Area of Triangle: 170.0\n"
     ]
    },
    {
     "name": "stdin",
     "output_type": "stream",
     "text": [
      "Height1:  2\n",
      "Height2:  4\n",
      "Breadth:  4\n"
     ]
    },
    {
     "name": "stdout",
     "output_type": "stream",
     "text": [
      "Perimeter formula: Height1 + Height2 + Breadth\n",
      "Perimeter of Triangle: 10.0\n"
     ]
    }
   ],
   "source": [
    "class Triangle:\n",
    "    def triangle(self):\n",
    "\n",
    "        Height = float(input(\"Height: \"))\n",
    "        Breadth = float(input(\"Breadth: \"))\n",
    "        Area = (Height * Breadth) / 2\n",
    "        print(f\"Area formula: (Height * Breadth) / 2\")\n",
    "        print(f\"Area of Triangle: {Area}\")\n",
    "        \n",
    "     \n",
    "        Height1 = float(input(\"Height1: \"))\n",
    "        Height2 = float(input(\"Height2: \"))\n",
    "        Breadth = float(input(\"Breadth: \"))\n",
    "        Perimeter = Height1 + Height2 + Breadth\n",
    "        print(f\"Perimeter formula: Height1 + Height2 + Breadth\")\n",
    "        print(f\"Perimeter of Triangle: {Perimeter}\")\n",
    "\n",
    "\n",
    "\n",
    "triangle = Triangle()\n",
    "triangle.triangle()\n"
   ]
  }
 ],
 "metadata": {
  "kernelspec": {
   "display_name": "Python [conda env:base] *",
   "language": "python",
   "name": "conda-base-py"
  },
  "language_info": {
   "codemirror_mode": {
    "name": "ipython",
    "version": 3
   },
   "file_extension": ".py",
   "mimetype": "text/x-python",
   "name": "python",
   "nbconvert_exporter": "python",
   "pygments_lexer": "ipython3",
   "version": "3.12.7"
  }
 },
 "nbformat": 4,
 "nbformat_minor": 5
}
