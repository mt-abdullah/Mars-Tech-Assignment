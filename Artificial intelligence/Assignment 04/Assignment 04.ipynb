{
 "cells": [
  {
   "cell_type": "code",
   "execution_count": 5,
   "id": "40d5161b-d14a-4a17-b47b-b7f507cd48c5",
   "metadata": {},
   "outputs": [
    {
     "name": "stdout",
     "output_type": "stream",
     "text": [
      "Value: 10\n",
      "correct\n"
     ]
    }
   ],
   "source": [
    "i = 10\n",
    "\n",
    "if i == 10:\n",
    "    print(f\"Value: {i}\")\n",
    "    print(\"correct\")\n"
   ]
  },
  {
   "cell_type": "code",
   "execution_count": 11,
   "id": "31616dfd-89c1-4e11-ba9a-f8db982468d8",
   "metadata": {},
   "outputs": [
    {
     "name": "stdin",
     "output_type": "stream",
     "text": [
      "Enter the password:  marstech@123\n"
     ]
    },
    {
     "name": "stdout",
     "output_type": "stream",
     "text": [
      "Your password is correct\n"
     ]
    }
   ],
   "source": [
    "correct_password = \"marstech@123\"\n",
    "\n",
    "entered_password = input(\"Enter the password: \")\n",
    "\n",
    "if entered_password == correct_password:\n",
    "    print(\"Your password is correct\")\n",
    "else:\n",
    "    print(\"Incorrect password, try again.\")\n"
   ]
  },
  {
   "cell_type": "code",
   "execution_count": 19,
   "id": "9690dcc1-de2c-4679-b9c1-cc5c557ff070",
   "metadata": {},
   "outputs": [
    {
     "name": "stdin",
     "output_type": "stream",
     "text": [
      "Age:  20\n"
     ]
    },
    {
     "name": "stdout",
     "output_type": "stream",
     "text": [
      "Adult\n"
     ]
    }
   ],
   "source": [
    "Age = int(input(\"Age: \"))\n",
    "\n",
    "if Age < 18:\n",
    "    print(\"Children\")\n",
    "elif 18 <= Age < 30:\n",
    "    print(\"Adult\")\n",
    "elif 30 <= Age < 40:\n",
    "    print(\"Citizen\")\n",
    "elif Age >= 40:\n",
    "    print(\"Senior Citizen\")"
   ]
  },
  {
   "cell_type": "code",
   "execution_count": 27,
   "id": "38b8c344-1bfe-4b33-ab90-283e096cc1be",
   "metadata": {},
   "outputs": [
    {
     "name": "stdin",
     "output_type": "stream",
     "text": [
      "Enter any number:  1\n"
     ]
    },
    {
     "name": "stdout",
     "output_type": "stream",
     "text": [
      "No is positive\n"
     ]
    }
   ],
   "source": [
    "number = float(input(\"Enter any number: \"))\n",
    "\n",
    "if number > 0:\n",
    "    print(\"No is positive\")\n",
    "elif number < 0:\n",
    "    print(\"No is negative\")\n",
    "else:\n",
    "    print(\"No is zero\")\n"
   ]
  },
  {
   "cell_type": "code",
   "execution_count": 31,
   "id": "ffb6cb59-f57b-44c9-9022-cb629dfb33b6",
   "metadata": {},
   "outputs": [
    {
     "name": "stdin",
     "output_type": "stream",
     "text": [
      "Enter a number to check:  22\n"
     ]
    },
    {
     "name": "stdout",
     "output_type": "stream",
     "text": [
      "No is not divisible by 5\n"
     ]
    }
   ],
   "source": [
    "number = int(input(\"Enter a number to check: \"))\n",
    "\n",
    "if number % 5 == 0:\n",
    "    print(\"No is divisible by 5\")\n",
    "else:\n",
    "    print(\"No is not divisible by 5\")\n"
   ]
  }
 ],
 "metadata": {
  "kernelspec": {
   "display_name": "Python [conda env:base] *",
   "language": "python",
   "name": "conda-base-py"
  },
  "language_info": {
   "codemirror_mode": {
    "name": "ipython",
    "version": 3
   },
   "file_extension": ".py",
   "mimetype": "text/x-python",
   "name": "python",
   "nbconvert_exporter": "python",
   "pygments_lexer": "ipython3",
   "version": "3.12.7"
  }
 },
 "nbformat": 4,
 "nbformat_minor": 5
}
