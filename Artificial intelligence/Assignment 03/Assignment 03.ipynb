{
 "cells": [
  {
   "cell_type": "code",
   "execution_count": 33,
   "id": "97083939-11f8-41f3-a47f-ef12ce203bde",
   "metadata": {},
   "outputs": [
    {
     "name": "stdout",
     "output_type": "stream",
     "text": [
      " 0\n",
      " 1 \n",
      " 2 \n",
      " 3\n",
      " 4 \n",
      " 5 \n",
      " 6 \n",
      " 7 \n",
      " 8 \n",
      " 9 \n",
      " 10 \n",
      " 11 \n",
      " 12 \n",
      " 13 \n",
      " 14 \n",
      " 15\n",
      " 16 \n",
      " 17\n",
      " 18 \n",
      " 19\n"
     ]
    }
   ],
   "source": [
    "print(\" 0\\n 1 \\n 2 \\n 3\\n 4 \\n 5 \\n 6 \\n 7 \\n 8 \\n 9 \\n 10 \\n 11 \\n 12 \\n 13 \\n 14 \\n 15\\n 16 \\n 17\\n 18 \\n 19\")"
   ]
  },
  {
   "cell_type": "code",
   "execution_count": 15,
   "id": "2a8800ec-e7cd-4721-a6f3-eadfb17d0dca",
   "metadata": {},
   "outputs": [
    {
     "name": "stdout",
     "output_type": "stream",
     "text": [
      "10 11 12 13 14 15 16 17 18 19\n"
     ]
    }
   ],
   "source": [
    "print(10, 11, 12, 13, 14, 15, 16, 17, 18, 19)"
   ]
  },
  {
   "cell_type": "code",
   "execution_count": 51,
   "id": "3ea9c49d-c457-48f5-8905-9c7551f1fa0f",
   "metadata": {},
   "outputs": [
    {
     "name": "stdout",
     "output_type": "stream",
     "text": [
      "[10, 20, 14, 55, 43, 87, 76]\n",
      "Number of items in the List2:\n",
      " 7\n"
     ]
    }
   ],
   "source": [
    "list2 = [10, 20, 14, 55, 43, 87, 76]\n",
    "print (list2)\n",
    "print(\"Number of items in the List2:\\n\" , len(list2))\n"
   ]
  },
  {
   "cell_type": "code",
   "execution_count": 75,
   "id": "245d3ebf-e4ee-4bfe-b73d-d78ac276da28",
   "metadata": {},
   "outputs": [
    {
     "name": "stdout",
     "output_type": "stream",
     "text": [
      "Artificial Intelligence\n",
      "A\n",
      "r\n",
      "t\n",
      "i\n",
      "f\n",
      "i\n",
      "c\n",
      "i\n",
      "a\n",
      "l\n",
      "\n",
      "I\n",
      "n\n",
      "t\n",
      "e\n",
      "l\n",
      "l\n",
      "i\n",
      "g\n",
      "e\n",
      "n\n",
      "c\n",
      "e\n"
     ]
    }
   ],
   "source": [
    "print (\"Artificial Intelligence\")\n",
    "print (\"A\\nr\\nt\\ni\\nf\\ni\\nc\\ni\\na\\nl\\n\\nI\\nn\\nt\\ne\\nl\\nl\\ni\\ng\\ne\\nn\\nc\\ne\")"
   ]
  },
  {
   "cell_type": "code",
   "execution_count": 83,
   "id": "57ef8882-7b7c-4c52-a110-22a47a13e766",
   "metadata": {},
   "outputs": [
    {
     "name": "stdout",
     "output_type": "stream",
     "text": [
      "-Your Name- \n",
      "-Your Age- \n",
      "-Your Profession-\n"
     ]
    }
   ],
   "source": [
    "print (\"-Your Name- \\n-Your Age- \\n-Your Profession-\")"
   ]
  },
  {
   "cell_type": "code",
   "execution_count": 93,
   "id": "165778f4-d40a-42cb-ac83-cb77413ed5cc",
   "metadata": {},
   "outputs": [
    {
     "name": "stdout",
     "output_type": "stream",
     "text": [
      "(1, 'welcome', 2, 'mars tech')\n"
     ]
    }
   ],
   "source": [
    "Tuple1 = (1,'welcome', 2,'mars tech')\n",
    "print(Tuple1)"
   ]
  },
  {
   "cell_type": "code",
   "execution_count": 101,
   "id": "df026400-a1f0-4429-ab57-cd0cf67afb60",
   "metadata": {},
   "outputs": [
    {
     "name": "stdout",
     "output_type": "stream",
     "text": [
      "((0, 1, 2, 3), ('python', 'mars tech'))\n"
     ]
    }
   ],
   "source": [
    "Tuple1 = (0, 1, 2, 3)\n",
    "Tuple2 = ('python', 'mars tech')\n",
    "Tuple3 = (Tuple1, Tuple2)\n",
    "print(Tuple3)"
   ]
  },
  {
   "cell_type": "code",
   "execution_count": 121,
   "id": "e68517f1-2dc0-4541-a71d-8ea341bb1a38",
   "metadata": {},
   "outputs": [
    {
     "name": "stdout",
     "output_type": "stream",
     "text": [
      "(20, 10, 16, 19, 25, 1, 276, 188)\n",
      "19 is odd\n",
      "25 is odd\n",
      "1 is odd\n"
     ]
    }
   ],
   "source": [
    "list = (20, 10, 16, 19, 25, 1,276, 188)\n",
    "print (list)\n",
    "\n",
    "for num in list:\n",
    "    if num % 2 != 0:  \n",
    "        print(f\"{num} is odd\")"
   ]
  },
  {
   "cell_type": "code",
   "execution_count": 123,
   "id": "636cd3ad-f3f8-486a-91e3-7194a6ac0658",
   "metadata": {},
   "outputs": [
    {
     "name": "stdout",
     "output_type": "stream",
     "text": [
      "(20, 10, 16, 19, 25, 1, 276, 188)\n",
      "20 is even\n",
      "10 is even\n",
      "16 is even\n",
      "276 is even\n",
      "188 is even\n"
     ]
    }
   ],
   "source": [
    "list = (20, 10, 16, 19, 25, 1,276, 188)\n",
    "print (list)\n",
    "\n",
    "for num in list:\n",
    "    if num % 2 != 1:  \n",
    "        print(f\"{num} is even\")"
   ]
  },
  {
   "cell_type": "code",
   "execution_count": null,
   "id": "f08093c8-2eba-4b02-9ef9-c0bab2432f5f",
   "metadata": {},
   "outputs": [],
   "source": []
  }
 ],
 "metadata": {
  "kernelspec": {
   "display_name": "Python [conda env:base] *",
   "language": "python",
   "name": "conda-base-py"
  },
  "language_info": {
   "codemirror_mode": {
    "name": "ipython",
    "version": 3
   },
   "file_extension": ".py",
   "mimetype": "text/x-python",
   "name": "python",
   "nbconvert_exporter": "python",
   "pygments_lexer": "ipython3",
   "version": "3.12.7"
  }
 },
 "nbformat": 4,
 "nbformat_minor": 5
}
