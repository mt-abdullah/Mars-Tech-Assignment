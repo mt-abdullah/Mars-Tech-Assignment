{
 "cells": [
  {
   "cell_type": "code",
   "execution_count": 1,
   "id": "200a5f66-e772-4fc7-b159-20dad7b08e41",
   "metadata": {},
   "outputs": [
    {
     "name": "stdout",
     "output_type": "stream",
     "text": [
      "Welcome to Assignment-1\n"
     ]
    }
   ],
   "source": [
    "print(\"Welcome to Assignment-1\")"
   ]
  },
  {
   "cell_type": "code",
   "execution_count": 30,
   "id": "1cde4a88-fcbb-4ba2-aafa-e4bdc1852b33",
   "metadata": {},
   "outputs": [
    {
     "name": "stdout",
     "output_type": "stream",
     "text": [
      "Num1= 10\n",
      "Num2= 30\n",
      "Add= 40\n"
     ]
    }
   ],
   "source": [
    "Num1 = 10\n",
    "Num2 = 30\n",
    "Add = Num1 + Num2\n",
    "print (\"Num1=\",Num1)\n",
    "print (\"Num2=\",Num2)\n",
    "print (\"Add=\", Add)"
   ]
  },
  {
   "cell_type": "code",
   "execution_count": 46,
   "id": "a27099b3-5996-4252-a897-b42abcd0cd0b",
   "metadata": {},
   "outputs": [
    {
     "name": "stdin",
     "output_type": "stream",
     "text": [
      "Enter the BMI Index:  39\n"
     ]
    },
    {
     "name": "stdout",
     "output_type": "stream",
     "text": [
      "Extreme Obesity\n"
     ]
    }
   ],
   "source": [
    "BMI = int(input(\"Enter the BMI Index: \"))\n",
    "\n",
    "if BMI < 18:\n",
    "    print(\"Under weight\")\n",
    "elif 18 <= BMI < 24:\n",
    "    print(\"Normal Weight\")\n",
    "elif 24 <= BMI < 29:\n",
    "    print(\"Over Weight\")\n",
    "elif 29 <= BMI < 39:\n",
    "    print(\"Obesity\")\n",
    "elif BMI >= 39:\n",
    "    print(\"Extreme Obesity\")\n"
   ]
  }
 ],
 "metadata": {
  "kernelspec": {
   "display_name": "Python [conda env:base] *",
   "language": "python",
   "name": "conda-base-py"
  },
  "language_info": {
   "codemirror_mode": {
    "name": "ipython",
    "version": 3
   },
   "file_extension": ".py",
   "mimetype": "text/x-python",
   "name": "python",
   "nbconvert_exporter": "python",
   "pygments_lexer": "ipython3",
   "version": "3.12.7"
  }
 },
 "nbformat": 4,
 "nbformat_minor": 5
}
