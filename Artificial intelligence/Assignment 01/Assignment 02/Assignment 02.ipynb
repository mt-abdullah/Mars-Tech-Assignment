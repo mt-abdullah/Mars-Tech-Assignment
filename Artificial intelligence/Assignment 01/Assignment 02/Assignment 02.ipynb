{
 "cells": [
  {
   "cell_type": "code",
   "execution_count": 1,
   "id": "6aa763fc-f4e1-4034-ba0b-63afa5c4212d",
   "metadata": {},
   "outputs": [
    {
     "name": "stdout",
     "output_type": "stream",
     "text": [
      "Mars Tech\n"
     ]
    }
   ],
   "source": [
    "print (\"Mars Tech\")"
   ]
  },
  {
   "cell_type": "code",
   "execution_count": 5,
   "id": "2329003e-3961-48f2-b5f8-31f5317c2e0f",
   "metadata": {},
   "outputs": [
    {
     "name": "stdin",
     "output_type": "stream",
     "text": [
      "Enter Your Institute Name? : Mars Tech\n"
     ]
    }
   ],
   "source": [
    "print = input (\"Enter Your Institute Name? :\")"
   ]
  },
  {
   "cell_type": "code",
   "execution_count": 7,
   "id": "5f1539ca-c89b-471a-886e-f30e6da7662c",
   "metadata": {},
   "outputs": [
    {
     "name": "stdin",
     "output_type": "stream",
     "text": [
      "Enter Your Name : Raj\n",
      "Enter Your Age : 15\n",
      "Enter Your School Name : Guru School\n",
      "Enter Your Drgree : B.E CSE\n"
     ]
    }
   ],
   "source": [
    "print = input (\"Enter Your Name :\")\n",
    "print = input (\"Enter Your Age :\")\n",
    "print = input (\"Enter Your School Name :\")\n",
    "print = input (\"Enter Your Drgree :\")"
   ]
  },
  {
   "cell_type": "code",
   "execution_count": 4,
   "id": "0947dcd7-1890-4b2a-9db7-068c5437c018",
   "metadata": {},
   "outputs": [
    {
     "name": "stdout",
     "output_type": "stream",
     "text": [
      "a = 43\n",
      "b = 34\n",
      "Add = 77\n"
     ]
    }
   ],
   "source": [
    "a = 43\n",
    "b = 34\n",
    "Add = a + b\n",
    "\n",
    "print(\"a =\", a)\n",
    "print(\"b =\", b)\n",
    "print(\"Add =\", Add)"
   ]
  },
  {
   "cell_type": "code",
   "execution_count": 6,
   "id": "d4e9e684-4a51-4d55-b36a-eedbbc81d258",
   "metadata": {},
   "outputs": [
    {
     "name": "stdout",
     "output_type": "stream",
     "text": [
      "a = 43\n",
      "b = 34\n",
      "Sub = 9\n"
     ]
    }
   ],
   "source": [
    "a = 43\n",
    "b = 34\n",
    "Sub = a - b\n",
    "\n",
    "print(\"a =\", a)\n",
    "print(\"b =\", b)\n",
    "print(\"Sub =\", Sub)"
   ]
  },
  {
   "cell_type": "code",
   "execution_count": 10,
   "id": "698cc269-29dd-49a9-a64f-12da73be3cc5",
   "metadata": {},
   "outputs": [
    {
     "name": "stdout",
     "output_type": "stream",
     "text": [
      "a = 63\n",
      "b = 97\n",
      "Mul = 6111\n"
     ]
    }
   ],
   "source": [
    "a = 63\n",
    "b = 97\n",
    "Mul = a * b\n",
    "\n",
    "print(\"a =\", a)\n",
    "print(\"b =\", b)\n",
    "print(\"Mul =\", Mul)"
   ]
  },
  {
   "cell_type": "code",
   "execution_count": 14,
   "id": "a016b857-b129-4f7f-b035-56775d6a632a",
   "metadata": {},
   "outputs": [
    {
     "name": "stdout",
     "output_type": "stream",
     "text": [
      "a = 76\n",
      "b = 31\n",
      "Float Div = 2.4516129032258065\n"
     ]
    }
   ],
   "source": [
    "a = 76\n",
    "b = 31\n",
    "Float_Div = a / b\n",
    "\n",
    "print(\"a =\", a)\n",
    "print(\"b =\", b)\n",
    "print(\"Float Div =\", Float_Div)"
   ]
  },
  {
   "cell_type": "code",
   "execution_count": 22,
   "id": "3e1b5c4c-bba0-467f-aeb4-3005550a3c26",
   "metadata": {},
   "outputs": [
    {
     "name": "stdout",
     "output_type": "stream",
     "text": [
      "a = 76\n",
      "b = 31\n",
      "Floor Div = 2\n"
     ]
    }
   ],
   "source": [
    "a = 76\n",
    "b = 31\n",
    "Floor_Div = a // b\n",
    "\n",
    "print(\"a =\", a)\n",
    "print(\"b =\", b)\n",
    "print(\"Floor Div =\", Floor_Div)"
   ]
  },
  {
   "cell_type": "code",
   "execution_count": 24,
   "id": "ece5528a-6c95-41db-b9db-4b82be95a0ff",
   "metadata": {},
   "outputs": [
    {
     "name": "stdout",
     "output_type": "stream",
     "text": [
      "a = 76\n",
      "b = 31\n",
      "Modulo = 14\n"
     ]
    }
   ],
   "source": [
    "a = 76\n",
    "b = 31\n",
    "Modulo = a % b\n",
    "\n",
    "print(\"a =\", a)\n",
    "print(\"b =\", b)\n",
    "print(\"Modulo =\", Modulo)"
   ]
  },
  {
   "cell_type": "code",
   "execution_count": 26,
   "id": "a525a27a-bcb7-44fa-a293-a22e89b9f3ef",
   "metadata": {},
   "outputs": [
    {
     "name": "stdout",
     "output_type": "stream",
     "text": [
      "a = 4\n",
      "b = 4\n",
      "Power = 256\n"
     ]
    }
   ],
   "source": [
    "a = 4\n",
    "b = 4\n",
    "Power = a ** b\n",
    "\n",
    "print(\"a =\", a)\n",
    "print(\"b =\", b)\n",
    "print(\"Power =\", Power)"
   ]
  }
 ],
 "metadata": {
  "kernelspec": {
   "display_name": "Python [conda env:base] *",
   "language": "python",
   "name": "conda-base-py"
  },
  "language_info": {
   "codemirror_mode": {
    "name": "ipython",
    "version": 3
   },
   "file_extension": ".py",
   "mimetype": "text/x-python",
   "name": "python",
   "nbconvert_exporter": "python",
   "pygments_lexer": "ipython3",
   "version": "3.12.7"
  }
 },
 "nbformat": 4,
 "nbformat_minor": 5
}
